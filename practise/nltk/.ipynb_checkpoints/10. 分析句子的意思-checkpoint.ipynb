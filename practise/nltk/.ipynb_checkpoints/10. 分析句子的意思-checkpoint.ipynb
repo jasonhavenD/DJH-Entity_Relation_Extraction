{
 "cells": [
  {
   "cell_type": "code",
   "execution_count": 1,
   "metadata": {
    "collapsed": true
   },
   "outputs": [],
   "source": [
    "import nltk"
   ]
  },
  {
   "cell_type": "code",
   "execution_count": 2,
   "metadata": {
    "collapsed": false
   },
   "outputs": [
    {
     "data": {
      "text/plain": [
       "'\\n我们如何能表示自然语言的意思，使计算机能够处理这些表示？\\n我们怎样才能将意思表示与无限的句子集合关联？\\n我们怎样才能使用程序来连接句子的意思表示到知识的存储？\\n'"
      ]
     },
     "execution_count": 2,
     "metadata": {},
     "output_type": "execute_result"
    }
   ],
   "source": [
    "'''\n",
    "我们如何能表示自然语言的意思，使计算机能够处理这些表示？\n",
    "我们怎样才能将意思表示与无限的句子集合关联？\n",
    "我们怎样才能使用程序来连接句子的意思表示到知识的存储？\n",
    "'''"
   ]
  },
  {
   "cell_type": "code",
   "execution_count": 3,
   "metadata": {
    "collapsed": false
   },
   "outputs": [
    {
     "data": {
      "text/plain": [
       "'\\n1 自然语言理解\\n\\n1.1 查询数据库\\n\\n\\n'"
      ]
     },
     "execution_count": 3,
     "metadata": {},
     "output_type": "execute_result"
    }
   ],
   "source": [
    "'''\n",
    "1 自然语言理解\n",
    "\n",
    "1.1 查询数据库\n",
    "\n",
    "\n",
    "'''"
   ]
  },
  {
   "cell_type": "code",
   "execution_count": 14,
   "metadata": {
    "collapsed": false
   },
   "outputs": [
    {
     "name": "stdout",
     "output_type": "stream",
     "text": [
      "% start S\n",
      "S[SEM=(?np + WHERE + ?vp)] -> NP[SEM=?np] VP[SEM=?vp]\n",
      "VP[SEM=(?v + ?pp)] -> IV[SEM=?v] PP[SEM=?pp]\n",
      "VP[SEM=(?v + ?ap)] -> IV[SEM=?v] AP[SEM=?ap]\n",
      "NP[SEM=(?det + ?n)] -> Det[SEM=?det] N[SEM=?n]\n",
      "PP[SEM=(?p + ?np)] -> P[SEM=?p] NP[SEM=?np]\n",
      "AP[SEM=?pp] -> A[SEM=?a] PP[SEM=?pp]\n",
      "NP[SEM='Country=\"greece\"'] -> 'Greece'\n",
      "NP[SEM='Country=\"china\"'] -> 'China'\n",
      "Det[SEM='SELECT'] -> 'Which' | 'What'\n",
      "N[SEM='City FROM city_table'] -> 'cities'\n",
      "IV[SEM=''] -> 'are'\n",
      "A[SEM=''] -> 'located'\n",
      "P[SEM=''] -> 'in'\n"
     ]
    }
   ],
   "source": [
    "'''\n",
    "我们怎样才能使用英语得到与我们在查询系统中输入得到的相同的效果呢？\n",
    "\n",
    "在9.中描述的基于特征的语法形式可以很容易地从英语翻译到SQL。\n",
    "\n",
    "语法sql0.fcfg   说明    如何将句子意思表示与句子分析串联组装。\n",
    "每个短语结构规则为   特征sem构建值  作  补充。\n",
    "你可以看到这些补充非常简单；\n",
    "\n",
    "在每一种情况下，我们对分割的子成分用字符串连接操作+来组成父成分的值。\n",
    "\n",
    "'''\n",
    "\n",
    "nltk.data.show_cfg(\"./sql0.fcfg\")"
   ]
  },
  {
   "cell_type": "code",
   "execution_count": 13,
   "metadata": {
    "collapsed": false
   },
   "outputs": [
    {
     "name": "stdout",
     "output_type": "stream",
     "text": [
      "SELECT City FROM city_table WHERE Country=\"china\"\n"
     ]
    }
   ],
   "source": [
    "from nltk import load_parser\n",
    "cp = load_parser('sql0.fcfg')\n",
    "query = 'What cities are located in China'\n",
    "trees = list(cp.parse(query.split()))\n",
    "answer = trees[0].label()['SEM']\n",
    "answer = [s for s in answer if s]\n",
    "q = ' '.join(answer)\n",
    "print(q)"
   ]
  },
  {
   "cell_type": "code",
   "execution_count": 17,
   "metadata": {
    "collapsed": false
   },
   "outputs": [
    {
     "name": "stdout",
     "output_type": "stream",
     "text": [
      "canton chungking dairen harbin kowloon mukden peking shanghai sian tientsin "
     ]
    }
   ],
   "source": [
    "#在数据库city.db上执行查询\n",
    "\n",
    "from nltk.sem import chat80\n",
    "rows = chat80.sql_query('corpora/city_database/city.db', q)\n",
    "for r in rows: print(r[0], end=\" \")"
   ]
  },
  {
   "cell_type": "code",
   "execution_count": 18,
   "metadata": {
    "collapsed": false
   },
   "outputs": [
    {
     "data": {
      "text/plain": [
       "'\\n语法sql0.fcfg，连同NLTK的Earley分析器是实现从英语翻译到SQL的工具。\\n\\n然而，这些成分的意思表示似乎没有很多的合理性\\n\\n这些因素表明我们应该将英语翻译成比SQL更加抽象和通用的东西。\\n'"
      ]
     },
     "execution_count": 18,
     "metadata": {},
     "output_type": "execute_result"
    }
   ],
   "source": [
    "'''\n",
    "语法sql0.fcfg，连同NLTK的Earley分析器是实现从英语翻译到SQL的工具。\n",
    "\n",
    "然而，这些成分的意思表示似乎没有很多的合理性\n",
    "\n",
    "这些因素表明我们应该将英语翻译成比SQL更加抽象和通用的东西。\n",
    "'''\n",
    "\n"
   ]
  },
  {
   "cell_type": "code",
   "execution_count": 19,
   "metadata": {
    "collapsed": false
   },
   "outputs": [
    {
     "data": {
      "text/plain": [
       "'\\n在下面的章节中，我们将探讨将自然语言的句子翻译成逻辑而不是如SQL这样的可执行查询语言的方法。逻辑形式的一个优势是它们更抽象，因此更通用。一旦我们翻译成了逻辑，只要我们想要，就可以再翻译成其他各种特殊用途的语言。事实上，大多数通过自然语言查询数据库的重要的尝试都是使用这种方法。\\n'"
      ]
     },
     "execution_count": 19,
     "metadata": {},
     "output_type": "execute_result"
    }
   ],
   "source": [
    "'''\n",
    "在下面的章节中，我们将探讨将自然语言的句子翻译成逻辑而不是如SQL这样的可执行查询语言的方法。逻辑形式的一个优势是它们更抽象，因此更通用。一旦我们翻译成了逻辑，只要我们想要，就可以再翻译成其他各种特殊用途的语言。事实上，大多数通过自然语言查询数据库的重要的尝试都是使用这种方法。\n",
    "'''"
   ]
  },
  {
   "cell_type": "code",
   "execution_count": 22,
   "metadata": {
    "collapsed": false
   },
   "outputs": [
    {
     "data": {
      "text/plain": [
       "'\\n1.2 自然语言、语义和逻辑\\n\\n我们引进了语义中的两个基本概念。\\n第一个是在某些情况下，陈述句非真即假。\\n第二个是名词短语和专有名词的定义指的是世界上的东西。\\n\\n\\n从广义上讲，自然语言语义表示的基于逻辑的方法关注那些指导我们判断自然语言的一致性和不一致性的方面。\\n设计一种逻辑语言的句法是为了使这些特征形式更明确。\\n结果是如一致性这样的确定性属性往往可以简化成符号操作，\\n也就是说，一种可以被计算机实施的任务。\\n为了实现这种方法，我们首先要开发一种表示某种可能情况的技术。\\n我们做的这些逻辑学家称之为模型。\\n'"
      ]
     },
     "execution_count": 22,
     "metadata": {},
     "output_type": "execute_result"
    }
   ],
   "source": [
    "'''\n",
    "1.2 自然语言、语义和逻辑\n",
    "\n",
    "我们引进了语义中的两个基本概念。\n",
    "第一个是在某些情况下，陈述句非真即假。\n",
    "第二个是名词短语和专有名词的定义指的是世界上的东西。\n",
    "\n",
    "\n",
    "从广义上讲，自然语言语义表示的基于逻辑的方法关注那些指导我们判断自然语言的一致性和不一致性的方面。\n",
    "设计一种逻辑语言的句法是为了使这些特征形式更明确。\n",
    "结果是如一致性这样的确定性属性往往可以简化成   符号操作   ，\n",
    "也就是说，一种可以被计算机实施的任务。\n",
    "为了实现这种方法，我们   首先    要开发一种表示某种可能情况的技术。\n",
    "我们做的这些逻辑学家称之为    模型  。\n",
    "'''"
   ]
  },
  {
   "cell_type": "code",
   "execution_count": 25,
   "metadata": {
    "collapsed": false
   },
   "outputs": [
    {
     "data": {
      "text/plain": [
       "'\\n\\n一个句子集W的模型是某种情况的形式化表示，其中W中的所有句子都为真。\\n\\n表示模型通常的方式是  集合论    。\\n段落的域D（我们当前关心的所有实体）是个体的一个集合，而当集合从D建立，关系也被确立\\n'"
      ]
     },
     "execution_count": 25,
     "metadata": {},
     "output_type": "execute_result"
    }
   ],
   "source": [
    "'''\n",
    "\n",
    "一个句子集W的模型是某种情况的形式化表示，其中W中的所有句子都为真。\n",
    "\n",
    "表示模型通常的方式是  集合论    。\n",
    "段落的域D（我们当前关心的所有实体）是个体的一个集合，而当集合从D建立，关系也被确立\n",
    "'''"
   ]
  },
  {
   "cell_type": "code",
   "execution_count": null,
   "metadata": {
    "collapsed": true
   },
   "outputs": [],
   "source": []
  },
  {
   "cell_type": "code",
   "execution_count": null,
   "metadata": {
    "collapsed": true
   },
   "outputs": [],
   "source": []
  },
  {
   "cell_type": "code",
   "execution_count": null,
   "metadata": {
    "collapsed": true
   },
   "outputs": [],
   "source": []
  },
  {
   "cell_type": "code",
   "execution_count": null,
   "metadata": {
    "collapsed": true
   },
   "outputs": [],
   "source": []
  },
  {
   "cell_type": "code",
   "execution_count": null,
   "metadata": {
    "collapsed": true
   },
   "outputs": [],
   "source": []
  },
  {
   "cell_type": "code",
   "execution_count": null,
   "metadata": {
    "collapsed": true
   },
   "outputs": [],
   "source": []
  },
  {
   "cell_type": "code",
   "execution_count": null,
   "metadata": {
    "collapsed": true
   },
   "outputs": [],
   "source": []
  }
 ],
 "metadata": {
  "kernelspec": {
   "display_name": "Python 3",
   "language": "python",
   "name": "python3"
  },
  "language_info": {
   "codemirror_mode": {
    "name": "ipython",
    "version": 3
   },
   "file_extension": ".py",
   "mimetype": "text/x-python",
   "name": "python",
   "nbconvert_exporter": "python",
   "pygments_lexer": "ipython3",
   "version": "3.6.0"
  }
 },
 "nbformat": 4,
 "nbformat_minor": 2
}
