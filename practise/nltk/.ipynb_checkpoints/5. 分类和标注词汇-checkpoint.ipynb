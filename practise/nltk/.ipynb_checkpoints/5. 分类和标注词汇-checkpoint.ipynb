{
 "cells": [
  {
   "cell_type": "code",
   "execution_count": 1,
   "metadata": {},
   "outputs": [
    {
     "data": {
      "text/plain": [
       "'\\n什么是词汇分类，在自然语言处理中它们是如何使用？\\n一个好的存储词汇和它们的分类的Python数据结构是什么？\\n我们如何自动标注文本中词汇的词类？\\n\\n'"
      ]
     },
     "execution_count": 1,
     "metadata": {},
     "output_type": "execute_result"
    }
   ],
   "source": [
    "'''\n",
    "什么是词汇分类，在自然语言处理中它们是如何使用？\n",
    "一个好的存储词汇和它们的分类的Python数据结构是什么？\n",
    "我们如何自动标注文本中词汇的词类？\n",
    "\n",
    "'''"
   ]
  },
  {
   "cell_type": "code",
   "execution_count": null,
   "metadata": {},
   "outputs": [],
   "source": []
  }
 ],
 "metadata": {
  "kernelspec": {
   "display_name": "Python 3",
   "language": "python",
   "name": "python3"
  },
  "language_info": {
   "codemirror_mode": {
    "name": "ipython",
    "version": 3
   },
   "file_extension": ".py",
   "mimetype": "text/x-python",
   "name": "python",
   "nbconvert_exporter": "python",
   "pygments_lexer": "ipython3",
   "version": "3.6.4"
  }
 },
 "nbformat": 4,
 "nbformat_minor": 2
}
