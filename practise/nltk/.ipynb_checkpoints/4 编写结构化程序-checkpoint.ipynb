{
 "cells": [
  {
   "cell_type": "code",
   "execution_count": 2,
   "metadata": {},
   "outputs": [
    {
     "data": {
      "text/plain": [
       "'\\n\\n怎么能写出结构良好、可读的程序，你和其他人将能够很容易的重新使用它？\\n基本结构块，如循环、函数以及赋值，是如何执行的？\\nPython 编程的陷阱有哪些，你怎么能避免它们吗？\\n'"
      ]
     },
     "execution_count": 2,
     "metadata": {},
     "output_type": "execute_result"
    }
   ],
   "source": [
    "import nltk\n",
    "from nltk import *\n",
    "import re\n",
    "'''\n",
    "\n",
    "怎么能写出结构良好、可读的程序，你和其他人将能够很容易的重新使用它？\n",
    "基本结构块，如循环、函数以及赋值，是如何执行的？\n",
    "Python 编程的陷阱有哪些，你怎么能避免它们吗？\n",
    "'''"
   ]
  },
  {
   "cell_type": "code",
   "execution_count": 3,
   "metadata": {},
   "outputs": [
    {
     "data": {
      "text/plain": [
       "'\\n\\nPython 赋值和参数传递使用对象引用，例如如果a是一个列表，我们分配b = a，然后任何a上的操作都将修改b，反之亦然。\\nis操作测试是否两个对象是相同的内部对象，而==测试是否两个对象是相等的。两者的区别和词符与词类型的区别相似。\\n字符串、列表和元组是不同类型的序列对象，支持常见的操作如：索引、切片、len()、sorted()和使用in的成员测试。\\n声明式的编程风格通常会产生更简洁更可读的代码；手动递增循环变量通常是不必要的；枚举一个序列，使用enumerate()。\\n函数是一个重要的编程抽象，需要理解的关键概念有：参数传递、变量的作用域和文档字符串。\\n函数作为一个命名空间：函数内部定义的名称在该函数外不可见，除非这些名称被宣布为是全局的。\\n模块允许将材料与本地的文件逻辑的关联起来。一个模块作为一个命名空间：在一个模块中定义的名称——如变量和函数——在其他模块中不可见，除非这些名称被导入。\\n动态规划是一种在NLP 中广泛使用的算法设计技术，它存储以前的计算结果，以避免不必要的重复计算。\\n'"
      ]
     },
     "execution_count": 3,
     "metadata": {},
     "output_type": "execute_result"
    }
   ],
   "source": [
    "'''\n",
    "\n",
    "Python 赋值和参数传递使用对象引用，例如如果a是一个列表，我们分配b = a，然后任何a上的操作都将修改b，反之亦然。\n",
    "is操作测试是否两个对象是相同的内部对象，而==测试是否两个对象是相等的。两者的区别和词符与词类型的区别相似。\n",
    "字符串、列表和元组是不同类型的序列对象，支持常见的操作如：索引、切片、len()、sorted()和使用in的成员测试。\n",
    "声明式的编程风格通常会产生更简洁更可读的代码；手动递增循环变量通常是不必要的；枚举一个序列，使用enumerate()。\n",
    "函数是一个重要的编程抽象，需要理解的关键概念有：参数传递、变量的作用域和文档字符串。\n",
    "函数作为一个命名空间：函数内部定义的名称在该函数外不可见，除非这些名称被宣布为是全局的。\n",
    "模块允许将材料与本地的文件逻辑的关联起来。一个模块作为一个命名空间：在一个模块中定义的名称——如变量和函数——在其他模块中不可见，除非这些名称被导入。\n",
    "动态规划是一种在NLP 中广泛使用的算法设计技术，它存储以前的计算结果，以避免不必要的重复计算。\n",
    "'''"
   ]
  },
  {
   "cell_type": "code",
   "execution_count": null,
   "metadata": {},
   "outputs": [],
   "source": []
  }
 ],
 "metadata": {
  "kernelspec": {
   "display_name": "Python 3",
   "language": "python",
   "name": "python3"
  },
  "language_info": {
   "codemirror_mode": {
    "name": "ipython",
    "version": 3
   },
   "file_extension": ".py",
   "mimetype": "text/x-python",
   "name": "python",
   "nbconvert_exporter": "python",
   "pygments_lexer": "ipython3",
   "version": "3.6.4"
  }
 },
 "nbformat": 4,
 "nbformat_minor": 2
}
