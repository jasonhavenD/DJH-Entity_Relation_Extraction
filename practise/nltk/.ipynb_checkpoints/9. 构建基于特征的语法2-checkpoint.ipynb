{
 "cells": [
  {
   "cell_type": "code",
   "execution_count": 1,
   "metadata": {
    "collapsed": true
   },
   "outputs": [],
   "source": [
    "import nltk"
   ]
  },
  {
   "cell_type": "code",
   "execution_count": 3,
   "metadata": {
    "collapsed": false
   },
   "outputs": [
    {
     "data": {
      "text/plain": [
       "'\\n2 处理特征结构\\n\\nNLTK中的特征结构使用构造函数FeatStruct()声明。原子特征值可以是字符串或整数。\\n'"
      ]
     },
     "execution_count": 3,
     "metadata": {},
     "output_type": "execute_result"
    }
   ],
   "source": [
    "'''\n",
    "2 处理特征结构\n",
    "\n",
    "NLTK中的特征结构使用构造函数FeatStruct()声明。原子特征值可以是字符串或整数。\n",
    "'''"
   ]
  },
  {
   "cell_type": "code",
   "execution_count": 6,
   "metadata": {
    "collapsed": false
   },
   "outputs": [
    {
     "name": "stdout",
     "output_type": "stream",
     "text": [
      "[ NUM   = 'sg'   ]\n",
      "[ TENSE = 'past' ]\n"
     ]
    },
    {
     "data": {
      "text/plain": [
       "'\\n一个特征结构实际上只是一种字典，所以我们可以平常的方式通过索引访问它的值\\n'"
      ]
     },
     "execution_count": 6,
     "metadata": {},
     "output_type": "execute_result"
    }
   ],
   "source": [
    "fs1 = nltk.FeatStruct(TENSE='past', NUM='sg')\n",
    "print(fs1)\n",
    "'''\n",
    "一个特征结构实际上只是一种字典，所以我们可以平常的方式通过索引访问它的值\n",
    "'''"
   ]
  },
  {
   "cell_type": "code",
   "execution_count": 10,
   "metadata": {
    "collapsed": false
   },
   "outputs": [
    {
     "name": "stdout",
     "output_type": "stream",
     "text": [
      "[ CASE = 'acc' ]\n",
      "[ GND  = 'fem' ]\n",
      "[ NUM  = 'pl'  ]\n",
      "[ PER  = 3     ]\n"
     ]
    }
   ],
   "source": [
    "fs1 = nltk.FeatStruct(PER=3, NUM='pl', GND='fem')\n",
    "fs1['CASE'] = 'acc'\n",
    "print(fs1)"
   ]
  },
  {
   "cell_type": "code",
   "execution_count": 13,
   "metadata": {
    "collapsed": false
   },
   "outputs": [
    {
     "name": "stdout",
     "output_type": "stream",
     "text": [
      "[       [ CASE = 'acc' ] ]\n",
      "[ AGR = [ GND  = 'fem' ] ]\n",
      "[       [ NUM  = 'pl'  ] ]\n",
      "[       [ PER  = 3     ] ]\n",
      "[                        ]\n",
      "[ POS = 'N'              ]\n",
      "3\n"
     ]
    }
   ],
   "source": [
    "'''\n",
    "可以为特征结构定义更复杂的值\n",
    "\n",
    "'''\n",
    "fs2 = nltk.FeatStruct(POS='N', AGR=fs1)\n",
    "print(fs2)\n",
    "print(fs2['AGR']['PER'])"
   ]
  },
  {
   "cell_type": "code",
   "execution_count": 11,
   "metadata": {
    "collapsed": false
   },
   "outputs": [
    {
     "data": {
      "text/plain": [
       "'\\n指定特征结构的另一种方法是使用包含feature=value格式的特征-值对的方括号括起的字符串，其中值本身可能是特征结构\\n'"
      ]
     },
     "execution_count": 11,
     "metadata": {},
     "output_type": "execute_result"
    }
   ],
   "source": [
    "'''\n",
    "指定特征结构的另一种方法是使用包含feature=value格式的特征-值对的方括号括起的字符串，其中值本身可能是特征结构\n",
    "'''"
   ]
  },
  {
   "cell_type": "code",
   "execution_count": 14,
   "metadata": {
    "collapsed": false
   },
   "outputs": [
    {
     "name": "stdout",
     "output_type": "stream",
     "text": [
      "[       [ GND = 'fem' ] ]\n",
      "[ AGR = [ NUM = 'pl'  ] ]\n",
      "[       [ PER = 3     ] ]\n",
      "[                       ]\n",
      "[ POS = 'N'             ]\n"
     ]
    }
   ],
   "source": [
    "print(nltk.FeatStruct(\"[POS='N', AGR=[PER=3, NUM='pl', GND='fem']]\"))"
   ]
  },
  {
   "cell_type": "code",
   "execution_count": 16,
   "metadata": {
    "collapsed": false
   },
   "outputs": [
    {
     "name": "stdout",
     "output_type": "stream",
     "text": [
      "[ AGE   = 33               ]\n",
      "[ NAME  = 'Lee'            ]\n",
      "[ TELNO = '01 27 86 42 96' ]\n"
     ]
    }
   ],
   "source": [
    "#特征结构本身并不依赖于语言对象；它们是表示知识的通用目的的结构\n",
    "print(nltk.FeatStruct(NAME='Lee', TELNO='01 27 86 42 96', AGE=33))"
   ]
  },
  {
   "cell_type": "code",
   "execution_count": 23,
   "metadata": {
    "collapsed": true
   },
   "outputs": [],
   "source": [
    "#将特征结构作为图来查看往往是有用的；更具体的，作为有向无环图（DAG）\n",
    "#特征名称作为弧上的标签出现，特征值作为弧指向的节点的标签出现。\n",
    "#特征路径是一个可以从根节点跟踪的弧序列.们将表示路径为元组。于是，('ADDRESS', 'STREET')是一个特征路径，它在(20)中的值是标签为'rue Pascal'的节点。\n",
    "#当两条路径具有相同的值时，它们被称为是等价的。结构共享或重入\n",
    "#为了在我们的矩阵式表示中表示重入，我们将在共享的特征结构第一次出现的地方加一个括号括起的数字前缀，例如(1)。以后任何对这个结构的引用将使用符号-->(1)"
   ]
  },
  {
   "cell_type": "code",
   "execution_count": 24,
   "metadata": {
    "collapsed": false
   },
   "outputs": [
    {
     "name": "stdout",
     "output_type": "stream",
     "text": [
      "[ ADDRESS = (1) [ NUMBER = 74           ] ]\n",
      "[               [ STREET = 'rue Pascal' ] ]\n",
      "[                                         ]\n",
      "[ NAME    = 'Lee'                         ]\n",
      "[                                         ]\n",
      "[ SPOUSE  = [ ADDRESS -> (1)  ]           ]\n",
      "[           [ NAME    = 'Kim' ]           ]\n"
     ]
    }
   ],
   "source": [
    "print(nltk.FeatStruct(\"\"\"[NAME='Lee', ADDRESS=(1)[NUMBER=74, STREET='rue Pascal'],\n",
    "...                          SPOUSE=[NAME='Kim', ADDRESS->(1)]]\"\"\"))"
   ]
  },
  {
   "cell_type": "code",
   "execution_count": 30,
   "metadata": {
    "collapsed": false
   },
   "outputs": [
    {
     "name": "stdout",
     "output_type": "stream",
     "text": [
      "[ CITY   = 'Paris'      ]\n",
      "[ NUMBER = 74           ]\n",
      "[ STREET = 'rue Pascal' ]\n"
     ]
    }
   ],
   "source": [
    "'''\n",
    "2.1 包含和统一\n",
    "包含；FS0包含FS1，如果包含在FS0中的信息也都包含在FS1中。我们使用符合⊑来表示包含。\n",
    "合并两个特征结构的信息被称为统一，由方法unify() 支持。\n",
    "统一被正式定义为一个（部分）二元操作：FS0 ⊔ FS1。统一是对称的，所以FS0 ⊔ FS1 = FS1 ⊔ FS0\n",
    "\n",
    "如果我们统一两个具有包含关系的特征结构，那么统一的结果是两个中更具体的那个：\n",
    "\n",
    "'''\n",
    "fs1 = nltk.FeatStruct(NUMBER=74, STREET='rue Pascal')\n",
    "fs2 = nltk.FeatStruct(CITY='Paris')\n",
    "print(fs1.unify(fs2))\n",
    "#统一被正式定义为一个（部分）二元操作：FS0 ⊔ FS1。统一是对称的，所以FS0 ⊔ FS1 = FS1 ⊔ FS0"
   ]
  },
  {
   "cell_type": "code",
   "execution_count": 32,
   "metadata": {
    "collapsed": false
   },
   "outputs": [
    {
     "data": {
      "text/plain": [
       "'\\n3 扩展基于特征的语法\\n\\n3.1 子类别\\n'"
      ]
     },
     "execution_count": 32,
     "metadata": {},
     "output_type": "execute_result"
    }
   ],
   "source": [
    "'''\n",
    "3 扩展基于特征的语法\n",
    "\n",
    "3.1 子类别\n",
    "'''"
   ]
  },
  {
   "cell_type": "code",
   "execution_count": 33,
   "metadata": {
    "collapsed": false
   },
   "outputs": [
    {
     "data": {
      "text/plain": [
       "\"\\n上下文无关语法的传统分类是原子符号。特征结构的一个重要的作用是捕捉精细的区分，否则将需要数量翻倍的原子类别。\\n通过使用特征值上的变量，我们可以表达语法产生式中的限制，允许不同的特征规格的实现可以相互依赖。\\n通常情况下，我们在词汇层面指定固定的特征值，限制短语中的特征值与它们的孩子中的对应值统一。\\n特征值可以是原子的或复杂的。原子值的一个特定类别是布尔值，按照惯例用[+/- f]表示。\\n两个特征可以共享一个值（原子的或复杂的）。具有共享值的结构被称为重入。共享的值被表示为AVM中的数字索引（或标记）。\\n一个特征结构中的路径是一个特征的元组，对应从图的根开始的弧的序列上的标签。\\n两条路径是等价的，如果它们共享一个值。\\n包含的特征结构是偏序的。FS0包含FS1，当包含在FS0中的所有信息也出现在FS1中。\\n两种结构FS0和FS1的统一，如果成功，就是包含FS0和FS1的合并信息的特征结构FS2。\\n如果统一在FS中指定一条路径π，那么它也指定等效与π的每个路径π'。\\n我们可以使用特征结构建立对大量广泛语言学现象的简洁的分析，包括动词子类别，倒装结构，无限制依赖结构和格支配。\\n\""
      ]
     },
     "execution_count": 33,
     "metadata": {},
     "output_type": "execute_result"
    }
   ],
   "source": [
    "'''\n",
    "上下文无关语法的传统分类是原子符号。特征结构的一个重要的作用是捕捉精细的区分，否则将需要数量翻倍的原子类别。\n",
    "通过使用特征值上的变量，我们可以表达语法产生式中的限制，允许不同的特征规格的实现可以相互依赖。\n",
    "通常情况下，我们在词汇层面指定固定的特征值，限制短语中的特征值与它们的孩子中的对应值统一。\n",
    "特征值可以是原子的或复杂的。原子值的一个特定类别是布尔值，按照惯例用[+/- f]表示。\n",
    "两个特征可以共享一个值（原子的或复杂的）。具有共享值的结构被称为重入。共享的值被表示为AVM中的数字索引（或标记）。\n",
    "一个特征结构中的路径是一个特征的元组，对应从图的根开始的弧的序列上的标签。\n",
    "两条路径是等价的，如果它们共享一个值。\n",
    "包含的特征结构是偏序的。FS0包含FS1，当包含在FS0中的所有信息也出现在FS1中。\n",
    "两种结构FS0和FS1的统一，如果成功，就是包含FS0和FS1的合并信息的特征结构FS2。\n",
    "如果统一在FS中指定一条路径π，那么它也指定等效与π的每个路径π'。\n",
    "我们可以使用特征结构建立对大量广泛语言学现象的简洁的分析，包括动词子类别，倒装结构，无限制依赖结构和格支配。\n",
    "'''"
   ]
  },
  {
   "cell_type": "code",
   "execution_count": null,
   "metadata": {
    "collapsed": true
   },
   "outputs": [],
   "source": []
  }
 ],
 "metadata": {
  "kernelspec": {
   "display_name": "Python 3",
   "language": "python",
   "name": "python3"
  },
  "language_info": {
   "codemirror_mode": {
    "name": "ipython",
    "version": 3
   },
   "file_extension": ".py",
   "mimetype": "text/x-python",
   "name": "python",
   "nbconvert_exporter": "python",
   "pygments_lexer": "ipython3",
   "version": "3.6.0"
  }
 },
 "nbformat": 4,
 "nbformat_minor": 2
}
