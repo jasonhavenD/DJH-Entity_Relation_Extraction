{
 "cells": [
  {
   "cell_type": "code",
   "execution_count": 1,
   "metadata": {},
   "outputs": [
    {
     "data": {
      "text/plain": [
       "'\\n我们怎样才能识别语言数据中能明显用于对其分类的特征？\\n我们怎样才能构建语言模型，用于自动执行语言处理任务？\\n从这些模型中我们可以学到哪些关于语言的知识？\\n'"
      ]
     },
     "execution_count": 1,
     "metadata": {},
     "output_type": "execute_result"
    }
   ],
   "source": [
    "'''\n",
    "我们怎样才能识别语言数据中能明显用于对其分类的特征？\n",
    "我们怎样才能构建语言模型，用于自动执行语言处理任务？\n",
    "从这些模型中我们可以学到哪些关于语言的知识？\n",
    "'''"
   ]
  },
  {
   "cell_type": "code",
   "execution_count": 2,
   "metadata": {},
   "outputs": [
    {
     "data": {
      "text/plain": [
       "'\\n有监督分类\\n'"
      ]
     },
     "execution_count": 2,
     "metadata": {},
     "output_type": "execute_result"
    }
   ],
   "source": [
    "'''\n",
    "有监督分类\n",
    "'''"
   ]
  },
  {
   "cell_type": "code",
   "execution_count": 3,
   "metadata": {},
   "outputs": [
    {
     "data": {
      "text/plain": [
       "'\\n一个分类称为有监督的，如果它的建立基于训练语料的每个输入包含正确标签\\n'"
      ]
     },
     "execution_count": 3,
     "metadata": {},
     "output_type": "execute_result"
    }
   ],
   "source": [
    "\"\"\"\n",
    "一个分类称为有监督的，如果它的建立基于训练语料的每个输入包含正确标签\n",
    "\"\"\""
   ]
  },
  {
   "cell_type": "code",
   "execution_count": 17,
   "metadata": {},
   "outputs": [],
   "source": [
    "def gender_features(word):\n",
    "    return {\"word\":word,\"length\":len(word),\"last_letter\":word[-1],\"last_two_letter\":word[-2:]}"
   ]
  },
  {
   "cell_type": "code",
   "execution_count": 18,
   "metadata": {},
   "outputs": [
    {
     "data": {
      "text/plain": [
       "{'last_letter': 'k', 'last_two_letter': 'ek', 'length': 5, 'word': 'Shrek'}"
      ]
     },
     "execution_count": 18,
     "metadata": {},
     "output_type": "execute_result"
    }
   ],
   "source": [
    "gender_features('Shrek')"
   ]
  },
  {
   "cell_type": "code",
   "execution_count": 6,
   "metadata": {},
   "outputs": [],
   "source": [
    "from nltk.corpus import names\n",
    "labeled_names = ([(name, 'male') for name in names.words('male.txt')] +[(name, 'female') for name in names.words('female.txt')])"
   ]
  },
  {
   "cell_type": "code",
   "execution_count": 7,
   "metadata": {},
   "outputs": [],
   "source": [
    "import random\n",
    "random.shuffle(labeled_names)"
   ]
  },
  {
   "cell_type": "code",
   "execution_count": 19,
   "metadata": {},
   "outputs": [],
   "source": [
    "featuresets=[(gender_features(name),label) for name,label in labeled_names]"
   ]
  },
  {
   "cell_type": "code",
   "execution_count": 20,
   "metadata": {},
   "outputs": [],
   "source": [
    "train_set, test_set = featuresets[500:], featuresets[:500]"
   ]
  },
  {
   "cell_type": "code",
   "execution_count": 11,
   "metadata": {},
   "outputs": [],
   "source": [
    "import nltk"
   ]
  },
  {
   "cell_type": "code",
   "execution_count": 21,
   "metadata": {},
   "outputs": [],
   "source": [
    "classifier = nltk.NaiveBayesClassifier.train(train_set)"
   ]
  },
  {
   "cell_type": "code",
   "execution_count": 22,
   "metadata": {},
   "outputs": [
    {
     "data": {
      "text/plain": [
       "'male'"
      ]
     },
     "execution_count": 22,
     "metadata": {},
     "output_type": "execute_result"
    }
   ],
   "source": [
    "classifier.classify(gender_features('Neo'))"
   ]
  },
  {
   "cell_type": "code",
   "execution_count": 23,
   "metadata": {},
   "outputs": [
    {
     "data": {
      "text/plain": [
       "'female'"
      ]
     },
     "execution_count": 23,
     "metadata": {},
     "output_type": "execute_result"
    }
   ],
   "source": [
    "classifier.classify(gender_features('christine'))"
   ]
  },
  {
   "cell_type": "code",
   "execution_count": 24,
   "metadata": {},
   "outputs": [
    {
     "data": {
      "text/plain": [
       "0.744"
      ]
     },
     "execution_count": 24,
     "metadata": {},
     "output_type": "execute_result"
    }
   ],
   "source": [
    "nltk.classify.accuracy(classifier,test_set)"
   ]
  },
  {
   "cell_type": "code",
   "execution_count": 16,
   "metadata": {},
   "outputs": [
    {
     "name": "stdout",
     "output_type": "stream",
     "text": [
      "Most Informative Features\n",
      "             last_letter = 'a'            female : male   =     33.6 : 1.0\n",
      "             last_letter = 'k'              male : female =     32.1 : 1.0\n",
      "             last_letter = 'v'              male : female =     17.5 : 1.0\n",
      "             last_letter = 'f'              male : female =     16.6 : 1.0\n",
      "             last_letter = 'p'              male : female =     12.5 : 1.0\n"
     ]
    }
   ],
   "source": [
    "classifier.show_most_informative_features(5)"
   ]
  },
  {
   "cell_type": "code",
   "execution_count": 25,
   "metadata": {},
   "outputs": [],
   "source": [
    "def gender_features2(name):\n",
    "    features = {}\n",
    "    features[\"first_letter\"] = name[0].lower()\n",
    "    features[\"last_letter\"] = name[-1].lower()\n",
    "    for letter in 'abcdefghijklmnopqrstuvwxyz':\n",
    "        features[\"count({})\".format(letter)] = name.lower().count(letter)\n",
    "        features[\"has({})\".format(letter)] = (letter in name.lower())\n",
    "    return features"
   ]
  },
  {
   "cell_type": "code",
   "execution_count": 26,
   "metadata": {},
   "outputs": [
    {
     "data": {
      "text/plain": [
       "{'count(a)': 0,\n",
       " 'count(b)': 0,\n",
       " 'count(c)': 0,\n",
       " 'count(d)': 0,\n",
       " 'count(e)': 0,\n",
       " 'count(f)': 0,\n",
       " 'count(g)': 0,\n",
       " 'count(h)': 1,\n",
       " 'count(i)': 0,\n",
       " 'count(j)': 1,\n",
       " 'count(k)': 0,\n",
       " 'count(l)': 0,\n",
       " 'count(m)': 0,\n",
       " 'count(n)': 1,\n",
       " 'count(o)': 1,\n",
       " 'count(p)': 0,\n",
       " 'count(q)': 0,\n",
       " 'count(r)': 0,\n",
       " 'count(s)': 0,\n",
       " 'count(t)': 0,\n",
       " 'count(u)': 0,\n",
       " 'count(v)': 0,\n",
       " 'count(w)': 0,\n",
       " 'count(x)': 0,\n",
       " 'count(y)': 0,\n",
       " 'count(z)': 0,\n",
       " 'first_letter': 'j',\n",
       " 'has(a)': False,\n",
       " 'has(b)': False,\n",
       " 'has(c)': False,\n",
       " 'has(d)': False,\n",
       " 'has(e)': False,\n",
       " 'has(f)': False,\n",
       " 'has(g)': False,\n",
       " 'has(h)': True,\n",
       " 'has(i)': False,\n",
       " 'has(j)': True,\n",
       " 'has(k)': False,\n",
       " 'has(l)': False,\n",
       " 'has(m)': False,\n",
       " 'has(n)': True,\n",
       " 'has(o)': True,\n",
       " 'has(p)': False,\n",
       " 'has(q)': False,\n",
       " 'has(r)': False,\n",
       " 'has(s)': False,\n",
       " 'has(t)': False,\n",
       " 'has(u)': False,\n",
       " 'has(v)': False,\n",
       " 'has(w)': False,\n",
       " 'has(x)': False,\n",
       " 'has(y)': False,\n",
       " 'has(z)': False,\n",
       " 'last_letter': 'n'}"
      ]
     },
     "execution_count": 26,
     "metadata": {},
     "output_type": "execute_result"
    }
   ],
   "source": [
    "gender_features2('John') "
   ]
  },
  {
   "cell_type": "code",
   "execution_count": 27,
   "metadata": {},
   "outputs": [],
   "source": [
    "featuresets = [(gender_features2(n), gender) for (n, gender) in labeled_names]"
   ]
  },
  {
   "cell_type": "code",
   "execution_count": 28,
   "metadata": {},
   "outputs": [],
   "source": [
    "train_set, test_set = featuresets[500:], featuresets[:500]"
   ]
  },
  {
   "cell_type": "code",
   "execution_count": 29,
   "metadata": {},
   "outputs": [],
   "source": [
    "classifier = nltk.NaiveBayesClassifier.train(train_set)"
   ]
  },
  {
   "cell_type": "code",
   "execution_count": 31,
   "metadata": {},
   "outputs": [
    {
     "name": "stdout",
     "output_type": "stream",
     "text": [
      "0.774\n"
     ]
    }
   ],
   "source": [
    "print(nltk.classify.accuracy(classifier, test_set))"
   ]
  },
  {
   "cell_type": "code",
   "execution_count": 33,
   "metadata": {},
   "outputs": [
    {
     "data": {
      "text/plain": [
       "'\\n完善特征集的一个非常有成效的方法是错误分析\\n\\n首先，我们选择一个开发集，包含用于创建模型的语料数据。然后将这种开发集分为训练集和开发测试集\\n开发集：训练集、开发测试集\\n测试集\\n'"
      ]
     },
     "execution_count": 33,
     "metadata": {},
     "output_type": "execute_result"
    }
   ],
   "source": [
    "'''\n",
    "完善特征集的一个非常有成效的方法是错误分析\n",
    "\n",
    "首先，我们选择一个开发集，包含用于创建模型的语料数据。然后将这种开发集分为训练集和开发测试集\n",
    "开发集：训练集、开发测试集\n",
    "测试集\n",
    "'''"
   ]
  },
  {
   "cell_type": "code",
   "execution_count": 34,
   "metadata": {},
   "outputs": [],
   "source": [
    "train_names = labeled_names[1500:]\n",
    "\n",
    "devtest_names = labeled_names[500:1500]\n",
    "\n",
    "test_names = labeled_names[:500]"
   ]
  },
  {
   "cell_type": "code",
   "execution_count": 39,
   "metadata": {},
   "outputs": [
    {
     "name": "stdout",
     "output_type": "stream",
     "text": [
      "0.776\n"
     ]
    }
   ],
   "source": [
    "train_set = [(gender_features(n), gender) for (n, gender) in train_names]\n",
    "devtest_set = [(gender_features(n), gender) for (n, gender) in devtest_names]\n",
    "test_set = [(gender_features(n), gender) for (n, gender) in test_names]\n",
    "\n",
    "classifier = nltk.NaiveBayesClassifier.train(train_set)\n",
    "print(nltk.classify.accuracy(classifier,devtest_set))\n",
    "#使用开发测试集，我们可以生成一个分类器预测名字性别时的错误列表\n",
    "#然后，可以检查个别错误案例，在那里该模型预测了错误的标签，尝试确定什么额外信息将使其能够作出正确的决定（或者现有的哪部分信息导致其做出错误的决定）。然后可以相应的调整特征集"
   ]
  },
  {
   "cell_type": "code",
   "execution_count": 40,
   "metadata": {},
   "outputs": [],
   "source": [
    "errors = []\n",
    "for (name, tag) in devtest_names:\n",
    "    guess = classifier.classify(gender_features(name))\n",
    "    if guess != tag:\n",
    "        errors.append( (tag, guess, name) )"
   ]
  },
  {
   "cell_type": "code",
   "execution_count": 38,
   "metadata": {},
   "outputs": [
    {
     "data": {
      "text/plain": [
       "[('female', 'male', 'Jude'),\n",
       " ('male', 'female', 'Godfree'),\n",
       " ('male', 'female', 'Lyn'),\n",
       " ('male', 'female', 'Keith'),\n",
       " ('female', 'male', 'Barry'),\n",
       " ('female', 'male', 'Vivien'),\n",
       " ('male', 'female', 'Henri'),\n",
       " ('female', 'male', 'Maris'),\n",
       " ('male', 'female', 'Barnie'),\n",
       " ('female', 'male', 'Cyb'),\n",
       " ('male', 'female', 'Emile'),\n",
       " ('male', 'female', 'Kyle'),\n",
       " ('female', 'male', 'Maren'),\n",
       " ('female', 'male', 'Easter'),\n",
       " ('male', 'female', 'Roice'),\n",
       " ('female', 'male', 'Noell'),\n",
       " ('male', 'female', 'Willi'),\n",
       " ('male', 'female', 'Martainn'),\n",
       " ('female', 'male', 'Tess'),\n",
       " ('female', 'male', 'Darcy'),\n",
       " ('female', 'male', 'Courtney'),\n",
       " ('female', 'male', 'Arden'),\n",
       " ('male', 'female', 'Flynn'),\n",
       " ('female', 'male', 'Marj'),\n",
       " ('male', 'female', 'Tommie'),\n",
       " ('female', 'male', 'Dody'),\n",
       " ('female', 'male', 'Nanon'),\n",
       " ('male', 'female', 'Ellsworth'),\n",
       " ('female', 'male', 'Jaclin'),\n",
       " ('female', 'male', 'Maridel'),\n",
       " ('female', 'male', 'Hillary'),\n",
       " ('female', 'male', 'Thomasin'),\n",
       " ('female', 'male', 'Carry'),\n",
       " ('female', 'male', 'Crystal'),\n",
       " ('female', 'male', 'Nat'),\n",
       " ('female', 'male', 'Gaby'),\n",
       " ('male', 'female', 'Herculie'),\n",
       " ('male', 'female', 'Rodge'),\n",
       " ('male', 'female', 'Mose'),\n",
       " ('female', 'male', 'Daveen'),\n",
       " ('female', 'male', 'Storey'),\n",
       " ('male', 'female', 'Duffie'),\n",
       " ('male', 'female', 'Lefty'),\n",
       " ('female', 'male', 'Amargo'),\n",
       " ('female', 'male', 'Kristal'),\n",
       " ('female', 'male', 'Romy'),\n",
       " ('female', 'male', 'Starlin'),\n",
       " ('female', 'male', 'Ricky'),\n",
       " ('female', 'male', 'Van'),\n",
       " ('female', 'male', 'Zoe'),\n",
       " ('female', 'male', 'Lilith'),\n",
       " ('female', 'male', 'Eran'),\n",
       " ('female', 'male', 'Lorry'),\n",
       " ('female', 'male', 'Tommy'),\n",
       " ('female', 'male', 'Joellen'),\n",
       " ('female', 'male', 'Dael'),\n",
       " ('female', 'male', 'Anny'),\n",
       " ('female', 'male', 'Cherry'),\n",
       " ('male', 'female', 'Giavani'),\n",
       " ('male', 'female', 'Sonny'),\n",
       " ('female', 'male', 'Melloney'),\n",
       " ('female', 'male', 'Roby'),\n",
       " ('female', 'male', 'Mel'),\n",
       " ('male', 'female', 'Baily'),\n",
       " ('male', 'female', 'Morty'),\n",
       " ('male', 'female', 'Winnie'),\n",
       " ('male', 'female', 'Temple'),\n",
       " ('female', 'male', 'Lark'),\n",
       " ('female', 'male', 'Aidan'),\n",
       " ('female', 'male', 'Karol'),\n",
       " ('male', 'female', 'Spence'),\n",
       " ('female', 'male', 'Donnajean'),\n",
       " ('male', 'female', 'Hazel'),\n",
       " ('male', 'female', 'Matty'),\n",
       " ('female', 'male', 'Hilary'),\n",
       " ('male', 'female', 'Phil'),\n",
       " ('male', 'female', 'Laurence'),\n",
       " ('male', 'female', 'Fonsie'),\n",
       " ('female', 'male', 'Abbey'),\n",
       " ('female', 'male', 'Velvet'),\n",
       " ('female', 'male', 'Ailey'),\n",
       " ('male', 'female', 'Dougie'),\n",
       " ('female', 'male', 'Kirsten'),\n",
       " ('female', 'male', 'Valery'),\n",
       " ('male', 'female', 'Moishe'),\n",
       " ('male', 'female', 'Bobby'),\n",
       " ('male', 'female', 'Pearce'),\n",
       " ('female', 'male', 'Patrice'),\n",
       " ('male', 'female', 'Corey'),\n",
       " ('male', 'female', 'Graehme'),\n",
       " ('female', 'male', 'Carolan'),\n",
       " ('male', 'female', 'Verne'),\n",
       " ('male', 'female', 'Benny'),\n",
       " ('male', 'female', 'Christophe'),\n",
       " ('female', 'male', 'Morgan'),\n",
       " ('male', 'female', 'Elijah'),\n",
       " ('female', 'male', 'Lucky'),\n",
       " ('male', 'female', 'Lyle'),\n",
       " ('female', 'male', 'Brooke'),\n",
       " ('female', 'male', 'Rosemary'),\n",
       " ('male', 'female', 'Dwaine'),\n",
       " ('male', 'female', 'Danie'),\n",
       " ('female', 'male', 'Lillis'),\n",
       " ('female', 'male', 'Alisun'),\n",
       " ('female', 'male', 'Aime'),\n",
       " ('female', 'male', 'Kasey'),\n",
       " ('female', 'male', 'Renell'),\n",
       " ('female', 'male', 'Ginnifer'),\n",
       " ('female', 'male', 'Nadeen'),\n",
       " ('male', 'female', 'Moise'),\n",
       " ('female', 'male', 'Clo'),\n",
       " ('male', 'female', 'Gayle'),\n",
       " ('female', 'male', 'Heather'),\n",
       " ('male', 'female', 'Perry'),\n",
       " ('male', 'female', 'Barty'),\n",
       " ('male', 'female', 'Cody'),\n",
       " ('male', 'female', 'Zacharia'),\n",
       " ('female', 'male', 'Luce'),\n",
       " ('male', 'female', 'Bela'),\n",
       " ('male', 'female', 'Patsy'),\n",
       " ('male', 'female', 'Valentine'),\n",
       " ('male', 'female', 'Sergei'),\n",
       " ('male', 'female', 'Lynn'),\n",
       " ('female', 'male', 'Love'),\n",
       " ('male', 'female', 'Caryl'),\n",
       " ('male', 'female', 'Grace'),\n",
       " ('male', 'female', 'Salvatore'),\n",
       " ('female', 'male', 'Carroll'),\n",
       " ('male', 'female', 'Rutledge'),\n",
       " ('female', 'male', 'Brook'),\n",
       " ('female', 'male', 'Allyson'),\n",
       " ('male', 'female', 'Bjorne'),\n",
       " ('male', 'female', 'Judith'),\n",
       " ('female', 'male', 'Opal'),\n",
       " ('female', 'male', 'Lin'),\n",
       " ('female', 'male', 'Karylin'),\n",
       " ('female', 'male', 'Umeko'),\n",
       " ('female', 'male', 'Piper'),\n",
       " ('female', 'male', 'Glenn'),\n",
       " ('female', 'male', 'Pegeen'),\n",
       " ('female', 'male', 'Rebe'),\n",
       " ('male', 'female', 'Georgie'),\n",
       " ('female', 'male', 'Suzy'),\n",
       " ('male', 'female', 'Dennie'),\n",
       " ('female', 'male', 'Estell'),\n",
       " ('male', 'female', 'Sunny'),\n",
       " ('female', 'male', 'Elsey'),\n",
       " ('female', 'male', 'Rory'),\n",
       " ('female', 'male', 'Merrill'),\n",
       " ('male', 'female', 'Rabi'),\n",
       " ('female', 'male', 'Raychel'),\n",
       " ('female', 'male', 'Tiff'),\n",
       " ('female', 'male', 'Casey'),\n",
       " ('male', 'female', 'Germaine'),\n",
       " ('male', 'female', 'Alfonse'),\n",
       " ('female', 'male', 'Mabel'),\n",
       " ('male', 'female', 'Vite'),\n",
       " ('male', 'female', 'Mendie'),\n",
       " ('female', 'male', 'Glen'),\n",
       " ('male', 'female', 'Isa'),\n",
       " ('male', 'female', 'Gretchen'),\n",
       " ('male', 'female', 'Andre'),\n",
       " ('male', 'female', 'Dannie'),\n",
       " ('female', 'male', 'Charmian'),\n",
       " ('female', 'male', 'Kit'),\n",
       " ('male', 'female', 'Arie'),\n",
       " ('male', 'female', 'Torrence'),\n",
       " ('male', 'female', 'Sidnee'),\n",
       " ('female', 'male', 'Dell'),\n",
       " ('female', 'male', 'Sydney'),\n",
       " ('male', 'female', 'Phillipe'),\n",
       " ('female', 'male', 'Billy'),\n",
       " ('male', 'female', 'See'),\n",
       " ('female', 'male', 'Fleur'),\n",
       " ('female', 'male', 'Harriett'),\n",
       " ('male', 'female', 'Julie'),\n",
       " ('male', 'female', 'Sayre'),\n",
       " ('female', 'male', 'Ealasaid'),\n",
       " ('female', 'male', 'Sue'),\n",
       " ('male', 'female', 'Weslie'),\n",
       " ('male', 'female', 'Charlie'),\n",
       " ('male', 'female', 'Stanly'),\n",
       " ('female', 'male', 'Britt'),\n",
       " ('female', 'male', 'Averil'),\n",
       " ('male', 'female', 'Bartie'),\n",
       " ('male', 'female', 'Lauren'),\n",
       " ('female', 'male', 'Joyan'),\n",
       " ('female', 'male', 'Charlott'),\n",
       " ('female', 'male', 'Margalo'),\n",
       " ('female', 'male', 'Aleen'),\n",
       " ('female', 'male', 'Cybel'),\n",
       " ('male', 'female', 'Maurice'),\n",
       " ('female', 'male', 'Margret'),\n",
       " ('female', 'male', 'Bridget'),\n",
       " ('female', 'male', 'Liz'),\n",
       " ('male', 'female', 'Cortese'),\n",
       " ('female', 'male', 'Rosabel'),\n",
       " ('female', 'male', 'Laurel'),\n",
       " ('male', 'female', 'Jonah'),\n",
       " ('female', 'male', 'Shannon'),\n",
       " ('female', 'male', 'Lorrin'),\n",
       " ('female', 'male', 'Jacquelin'),\n",
       " ('male', 'female', 'Ernie'),\n",
       " ('female', 'male', 'Nariko'),\n",
       " ('female', 'male', 'Corliss'),\n",
       " ('female', 'male', 'Agnes'),\n",
       " ('male', 'female', 'Sonnie'),\n",
       " ('male', 'female', 'Ossie'),\n",
       " ('male', 'female', 'Clarence'),\n",
       " ('male', 'female', 'Zackariah'),\n",
       " ('male', 'female', 'Marlowe'),\n",
       " ('female', 'male', 'Tierney'),\n",
       " ('male', 'female', 'Scotti'),\n",
       " ('female', 'male', 'Yehudit'),\n",
       " ('female', 'male', 'Jacky'),\n",
       " ('female', 'male', 'Sandy'),\n",
       " ('female', 'male', 'Caren'),\n",
       " ('female', 'male', 'Loren'),\n",
       " ('male', 'female', 'Durante'),\n",
       " ('female', 'male', 'Mead'),\n",
       " ('female', 'male', 'Devon'),\n",
       " ('female', 'male', 'Gabriel'),\n",
       " ('female', 'male', 'Madelin'),\n",
       " ('female', 'male', 'Grissel')]"
      ]
     },
     "execution_count": 38,
     "metadata": {},
     "output_type": "execute_result"
    }
   ],
   "source": [
    "errors"
   ]
  },
  {
   "cell_type": "code",
   "execution_count": 41,
   "metadata": {},
   "outputs": [
    {
     "data": {
      "text/plain": [
       "'\\n浏览这个错误列表，它明确指出一些多个字母的后缀可以指示名字性别。例如，yn结尾的名字显示以女性为主，尽管事实上，n结尾的名字往往是男性；以ch结尾的名字通常是男性，尽管以h结尾的名字倾向于是女性。因此，调整我们的特征提取器包括两个字母后缀的特征：\\n'"
      ]
     },
     "execution_count": 41,
     "metadata": {},
     "output_type": "execute_result"
    }
   ],
   "source": [
    "'''\n",
    "浏览这个错误列表，它明确指出一些多个字母的后缀可以指示名字性别。例如，yn结尾的名字显示以女性为主，尽管事实上，n结尾的名字往往是男性；以ch结尾的名字通常是男性，尽管以h结尾的名字倾向于是女性。因此，调整我们的特征提取器包括两个字母后缀的特征：\n",
    "'''"
   ]
  },
  {
   "cell_type": "code",
   "execution_count": 42,
   "metadata": {},
   "outputs": [],
   "source": [
    "def gender_features(word):\n",
    "...     return {'suffix1': word[-1:],\n",
    "...             'suffix2': word[-2:]}"
   ]
  },
  {
   "cell_type": "code",
   "execution_count": 44,
   "metadata": {},
   "outputs": [
    {
     "name": "stdout",
     "output_type": "stream",
     "text": [
      "0.796\n"
     ]
    }
   ],
   "source": [
    "'''\n",
    "使用新的特征提取器重建分类器\n",
    "'''\n",
    "train_set = [(gender_features(n), gender) for (n, gender) in train_names]\n",
    "devtest_set = [(gender_features(n), gender) for (n, gender) in devtest_names]\n",
    "test_set = [(gender_features(n), gender) for (n, gender) in test_names]\n",
    "\n",
    "classifier = nltk.NaiveBayesClassifier.train(train_set)\n",
    "print(nltk.classify.accuracy(classifier,devtest_set))\n",
    "# 0.776  0.796"
   ]
  },
  {
   "cell_type": "code",
   "execution_count": 45,
   "metadata": {},
   "outputs": [
    {
     "data": {
      "text/plain": [
       "'\\n一旦我们已经使用了开发测试集帮助我们开发模型，关于这个模型在新数据会表现多好，我们将不能再相信它会给我们一个准确地结果。因此，保持测试集分离、未使用过，直到我们的模型开发完毕是很重要的。在这一点上，我们可以使用测试集评估模型在新的输入值上执行的有多好。\\n'"
      ]
     },
     "execution_count": 45,
     "metadata": {},
     "output_type": "execute_result"
    }
   ],
   "source": [
    "'''\n",
    "一旦我们已经使用了开发测试集帮助我们开发模型，关于这个模型在新数据会表现多好，我们将不能再相信它会给我们一个准确地结果。因此，保持测试集分离、未使用过，直到我们的模型开发完毕是很重要的。在这一点上，我们可以使用测试集评估模型在新的输入值上执行的有多好。\n",
    "'''"
   ]
  },
  {
   "cell_type": "code",
   "execution_count": null,
   "metadata": {},
   "outputs": [],
   "source": []
  },
  {
   "cell_type": "code",
   "execution_count": null,
   "metadata": {},
   "outputs": [],
   "source": []
  },
  {
   "cell_type": "code",
   "execution_count": null,
   "metadata": {},
   "outputs": [],
   "source": []
  },
  {
   "cell_type": "code",
   "execution_count": null,
   "metadata": {},
   "outputs": [],
   "source": []
  },
  {
   "cell_type": "code",
   "execution_count": null,
   "metadata": {},
   "outputs": [],
   "source": []
  },
  {
   "cell_type": "code",
   "execution_count": null,
   "metadata": {},
   "outputs": [],
   "source": []
  },
  {
   "cell_type": "code",
   "execution_count": null,
   "metadata": {},
   "outputs": [],
   "source": []
  },
  {
   "cell_type": "code",
   "execution_count": null,
   "metadata": {},
   "outputs": [],
   "source": []
  },
  {
   "cell_type": "code",
   "execution_count": null,
   "metadata": {},
   "outputs": [],
   "source": []
  }
 ],
 "metadata": {
  "kernelspec": {
   "display_name": "Python 3",
   "language": "python",
   "name": "python3"
  },
  "language_info": {
   "codemirror_mode": {
    "name": "ipython",
    "version": 3
   },
   "file_extension": ".py",
   "mimetype": "text/x-python",
   "name": "python",
   "nbconvert_exporter": "python",
   "pygments_lexer": "ipython3",
   "version": "3.6.4"
  }
 },
 "nbformat": 4,
 "nbformat_minor": 2
}
