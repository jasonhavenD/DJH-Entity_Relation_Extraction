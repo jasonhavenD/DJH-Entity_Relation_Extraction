{
 "cells": [
  {
   "cell_type": "code",
   "execution_count": null,
   "metadata": {},
   "outputs": [],
   "source": []
  },
  {
   "cell_type": "code",
   "execution_count": 3,
   "metadata": {},
   "outputs": [
    {
     "data": {
      "text/plain": [
       "'\\n语言处理任务\\tNLTK 模块\\t功能\\n访问语料库\\tcorpus\\t语料库与词典的标准化接口\\n字符串处理\\ttokenize, stem\\t分词，分句，提取主干\\n搭配的发现\\tcollocations\\tt-检验，卡方，点互信息PMI\\n词性标注\\ttag\\tn-gram, backoff, Brill, HMM, TnT\\n机器学习\\tclassify, cluster, tbl\\t决策树，最大熵，贝叶斯，EM，k-means\\n分块\\tchunk\\t正则表达式，n-gram，命名实体\\n解析\\tparse, ccg\\t图表，基于特征，一致性，概率，依赖\\n语义解释\\tsem, inference\\tλ演算，一阶逻辑，模型检验\\n指标评测\\tmetrics\\t精度，召回率，协议系数\\n概率和估计\\tprobability\\t频率分布，平滑概率分布\\n应用\\tapp, chat\\t图形化的语料库检索工具，分析器，WordNet 查看器，聊天机器人\\n语言学领域的工作\\ttoolbox\\t处理SIL 工具箱格式的数据\\n\\n'"
      ]
     },
     "execution_count": 3,
     "metadata": {},
     "output_type": "execute_result"
    }
   ],
   "source": [
    "'''\n",
    "语言处理任务\tNLTK 模块\t功能\n",
    "访问语料库\tcorpus\t语料库与词典的标准化接口\n",
    "字符串处理\ttokenize, stem\t分词，分句，提取主干\n",
    "搭配的发现\tcollocations\tt-检验，卡方，点互信息PMI\n",
    "词性标注\ttag\tn-gram, backoff, Brill, HMM, TnT\n",
    "机器学习\tclassify, cluster, tbl\t决策树，最大熵，贝叶斯，EM，k-means\n",
    "分块\tchunk\t正则表达式，n-gram，命名实体\n",
    "解析\tparse, ccg\t图表，基于特征，一致性，概率，依赖\n",
    "语义解释\tsem, inference\tλ演算，一阶逻辑，模型检验\n",
    "指标评测\tmetrics\t精度，召回率，协议系数\n",
    "概率和估计\tprobability\t频率分布，平滑概率分布\n",
    "应用\tapp, chat\t图形化的语料库检索工具，分析器，WordNet 查看器，聊天机器人\n",
    "语言学领域的工作\ttoolbox\t处理SIL 工具箱格式的数据\n",
    "\n",
    "'''"
   ]
  },
  {
   "cell_type": "markdown",
   "metadata": {},
   "source": [
    "本书使用的约定\n",
    "本书使用以下印刷约定：\n",
    "\n",
    "粗体 -- 表示新的术语。\n",
    "\n",
    "斜体 -- 用在段落中表示语言学例子、文本的名称和URL，文件名和后缀名也用斜体。\n",
    "\n",
    "等宽字体 -- 用来表示程序清单，用在段落中表示变量、函数名、语句或关键字等程序元素；也用来表示程序名。\n",
    "\n",
    "等宽粗体 -- 表示应该由用户输入的命令或其他文本。\n",
    "\n",
    "等宽斜体 -- 表示应由用户提供的值或上下文决定的值来代替文本中的值；也在程序代码例子中表示元变量。\n",
    "\n",
    "注\n",
    "\n",
    "此图标表示提示、建议或一般性注意事项。"
   ]
  },
  {
   "cell_type": "code",
   "execution_count": null,
   "metadata": {},
   "outputs": [],
   "source": []
  }
 ],
 "metadata": {
  "kernelspec": {
   "display_name": "Python 3",
   "language": "python",
   "name": "python3"
  },
  "language_info": {
   "codemirror_mode": {
    "name": "ipython",
    "version": 3
   },
   "file_extension": ".py",
   "mimetype": "text/x-python",
   "name": "python",
   "nbconvert_exporter": "python",
   "pygments_lexer": "ipython3",
   "version": "3.6.4"
  }
 },
 "nbformat": 4,
 "nbformat_minor": 2
}
